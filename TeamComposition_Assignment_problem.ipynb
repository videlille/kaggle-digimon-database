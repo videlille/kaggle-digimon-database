{
 "cells": [
  {
   "cell_type": "markdown",
   "id": "0534a614-4a31-4340-b9bb-836d321e2a5e",
   "metadata": {},
   "source": [
    "# Digimon Database - Team composition\n",
    "\n",
    "Source: https://www.kaggle.com/rtatman/digidb\n",
    "\n",
    "Problem: \n",
    "\n",
    "Team composition is a complex problem which include variables as the gameplay, champion statistics, teammates interactions. Neural network algorithms can be found in the litterature for the best team composition , by example, in Leagues of Legends, where abundants informations are collected as teammates gameplay and datas on victory/losses. However, those algorithms are complex to write, analyze and require a lot of information collection. It seems that the best team is a well-balanced one, amongst other variables. This will be the starting point of the reasoning. \n",
    "\n",
    "Source:\n",
    "Conference paper: Towards automated team composition in MOBA games based on players’ personality: an intelligent approach,Lincoln Costa\n",
    "Ong, Hao Yi & Deolalikar, Sunil & Peng, Mark. (2015). Player Behavior and Optimal Team Composition for Online Multiplayer Games. \n",
    "\n",
    "The objective is to find the best team composition by selecting 3 digimons based on the DigiDB_digimonlist dataset. \n",
    "For the sake of simplicity, we consider here that the best team is a balanced team composed of \n",
    "- A Digimon with high physical damage stats\n",
    "- A Digimon with high magical damage stats\n",
    "- A Digimon with high defense stats\n",
    "\n",
    "\n",
    "That hypothesis is too simple for complex gameplay but it is a good start on champion selection depending on statistics.  This can be treated as an <b>optimization problem</b> known as <b>assignment</b> problem: to assign N Digimons to M different tasks. Here, we have 249 Digimons for 3 different tasks. \n",
    "\n",
    "In the <b>first part</b> of that project, we a simple model that  will assign the best candidates according to our criteria. The suggested solution is verified and compared to a simple analysis. From the previous questions, we know that the best team according to that simple metric is: Chaosmon (318 Atk) GroundLocomon (213 Def) and Lucemon SM or Barbamon (233 int). The model results are validated by the manual analysis. \n",
    "\n",
    "The <b>second part</b> of the project is to perform a deeper analysis by adding more complex metrics and Digimons filtering. First, we exclude all digimons who have a statistic below the average of all Digimons. This selection let us with 19 Digimons. Second, new metrics are designed to take in consideration more variables combinations. The best team is now composed of:\n",
    "- A Digimon with high physical damage and high speed stats ( Atk * Spd  = TotDam)\n",
    "- A Digimon with best ratio magical damage to SP ( Int / SP  = MtoSP )\n",
    "- A Digimon with high defense stats ( HP + Def = Tank)\n",
    "With those hypothesis, the best team is: (TotDam) Leopardmon LM (TotDam), Alphamon (MtoSP), Imperialdramon FM (Tank)\n",
    "\n",
    "In <b>conclusion</b>, we succeed to compose a team respecting our hypothesis. The model can be modified easily to taken in account more features, more champions or a team with different size or characteristics.\n",
    "\n",
    "The model is still quite simple and don't consider a lot of variables in the gameplay. These specificities are hard to capture and to understand completely and will require much more work, datas and a more complex model. However, there is room for small improvements and result analysis by exploiting the datas already present in the dataset.\n",
    "\n",
    "Some suggested improvements are:\n",
    "- Updated filtering methods, the cost notion becomes more important with few Digimons to select from which can be achieved with higher filtering. \n",
    "- New metrics for candidate selections, Memory and Equip slots could be included as a malus in the cost.\n",
    "- Include the attribute and type selection in the algorithm, to ensure a team balance \n",
    "- Add supportlist and movelist to the analysis by assigning to each of those moves a score that could be added to the appropriate category of pokemon. As example, a special power incresing the damage could be added as a +5 in the 'TotDam' stat\n",
    "\n"
   ]
  },
  {
   "cell_type": "markdown",
   "id": "5fba0838-ef61-405b-9af9-f35fa38b1904",
   "metadata": {},
   "source": [
    "## Design a simple model"
   ]
  },
  {
   "cell_type": "markdown",
   "id": "47e6e8a7-3398-4c24-8821-58aa2b3efe49",
   "metadata": {},
   "source": [
    "### Data pre-processing\n",
    "Select the require datas from the dataset "
   ]
  },
  {
   "cell_type": "code",
   "execution_count": 2,
   "id": "5f4202e4-a892-479c-b9f5-0bce2dd6b289",
   "metadata": {},
   "outputs": [
    {
     "data": {
      "text/html": [
       "<div>\n",
       "<style scoped>\n",
       "    .dataframe tbody tr th:only-of-type {\n",
       "        vertical-align: middle;\n",
       "    }\n",
       "\n",
       "    .dataframe tbody tr th {\n",
       "        vertical-align: top;\n",
       "    }\n",
       "\n",
       "    .dataframe thead th {\n",
       "        text-align: right;\n",
       "    }\n",
       "</style>\n",
       "<table border=\"1\" class=\"dataframe\">\n",
       "  <thead>\n",
       "    <tr style=\"text-align: right;\">\n",
       "      <th></th>\n",
       "      <th>Lv50 Atk</th>\n",
       "      <th>Lv50 Int</th>\n",
       "      <th>Lv50 Def</th>\n",
       "    </tr>\n",
       "  </thead>\n",
       "  <tbody>\n",
       "    <tr>\n",
       "      <th>0</th>\n",
       "      <td>79</td>\n",
       "      <td>68</td>\n",
       "      <td>69</td>\n",
       "    </tr>\n",
       "    <tr>\n",
       "      <th>1</th>\n",
       "      <td>76</td>\n",
       "      <td>69</td>\n",
       "      <td>76</td>\n",
       "    </tr>\n",
       "    <tr>\n",
       "      <th>2</th>\n",
       "      <td>97</td>\n",
       "      <td>50</td>\n",
       "      <td>87</td>\n",
       "    </tr>\n",
       "    <tr>\n",
       "      <th>3</th>\n",
       "      <td>77</td>\n",
       "      <td>76</td>\n",
       "      <td>95</td>\n",
       "    </tr>\n",
       "    <tr>\n",
       "      <th>4</th>\n",
       "      <td>54</td>\n",
       "      <td>95</td>\n",
       "      <td>59</td>\n",
       "    </tr>\n",
       "  </tbody>\n",
       "</table>\n",
       "</div>"
      ],
      "text/plain": [
       "   Lv50 Atk  Lv50 Int  Lv50 Def\n",
       "0        79        68        69\n",
       "1        76        69        76\n",
       "2        97        50        87\n",
       "3        77        76        95\n",
       "4        54        95        59"
      ]
     },
     "execution_count": 2,
     "metadata": {},
     "output_type": "execute_result"
    }
   ],
   "source": [
    "import pandas as pd\n",
    "import numpy as np\n",
    "\n",
    "digimonList = pd.read_csv('DigiDB_digimonlist.csv')\n",
    "selectedcolumns=digimonList[['Lv50 Atk','Lv50 Int','Lv50 Def']]\n",
    "matrix_filtered=selectedcolumns.copy()\n",
    "matrix_filtered.head()"
   ]
  },
  {
   "cell_type": "markdown",
   "id": "212bfb47-6f5a-49e3-bdb7-799403361205",
   "metadata": {},
   "source": [
    "Data normalization (value/max)"
   ]
  },
  {
   "cell_type": "code",
   "execution_count": 3,
   "id": "f48ff268-1cbd-4f3c-aa24-277a32fb2ae5",
   "metadata": {},
   "outputs": [
    {
     "data": {
      "text/html": [
       "<div>\n",
       "<style scoped>\n",
       "    .dataframe tbody tr th:only-of-type {\n",
       "        vertical-align: middle;\n",
       "    }\n",
       "\n",
       "    .dataframe tbody tr th {\n",
       "        vertical-align: top;\n",
       "    }\n",
       "\n",
       "    .dataframe thead th {\n",
       "        text-align: right;\n",
       "    }\n",
       "</style>\n",
       "<table border=\"1\" class=\"dataframe\">\n",
       "  <thead>\n",
       "    <tr style=\"text-align: right;\">\n",
       "      <th></th>\n",
       "      <th>Lv50 Atk</th>\n",
       "      <th>Lv50 Int</th>\n",
       "      <th>Lv50 Def</th>\n",
       "    </tr>\n",
       "  </thead>\n",
       "  <tbody>\n",
       "    <tr>\n",
       "      <th>243</th>\n",
       "      <td>1.000000</td>\n",
       "      <td>0.381974</td>\n",
       "      <td>0.441315</td>\n",
       "    </tr>\n",
       "    <tr>\n",
       "      <th>235</th>\n",
       "      <td>0.776730</td>\n",
       "      <td>0.467811</td>\n",
       "      <td>0.788732</td>\n",
       "    </tr>\n",
       "    <tr>\n",
       "      <th>195</th>\n",
       "      <td>0.764151</td>\n",
       "      <td>0.339056</td>\n",
       "      <td>0.488263</td>\n",
       "    </tr>\n",
       "  </tbody>\n",
       "</table>\n",
       "</div>"
      ],
      "text/plain": [
       "     Lv50 Atk  Lv50 Int  Lv50 Def\n",
       "243  1.000000  0.381974  0.441315\n",
       "235  0.776730  0.467811  0.788732\n",
       "195  0.764151  0.339056  0.488263"
      ]
     },
     "execution_count": 3,
     "metadata": {},
     "output_type": "execute_result"
    }
   ],
   "source": [
    "def normalize(df):\n",
    "    result = df.copy()\n",
    "    for feature_name in df.columns:\n",
    "        max_value = df[feature_name].max()\n",
    "        result[feature_name] = (df[feature_name]) / (max_value )\n",
    "    return result\n",
    "\n",
    "matrix_norm=normalize(matrix_filtered)\n",
    "\n",
    "# Sanity check - Highest attack at index 243\n",
    "matrix_norm.sort_values(by=['Lv50 Atk'], ascending=False).head(3)\n"
   ]
  },
  {
   "cell_type": "markdown",
   "id": "65171bd4-dc70-4511-9463-4942171927dd",
   "metadata": {},
   "source": [
    "Convert to numpy array and convert stats into cost (inversely proportional)"
   ]
  },
  {
   "cell_type": "code",
   "execution_count": 4,
   "id": "567fdea5-4d55-4c87-a6fa-616f8cf6d085",
   "metadata": {},
   "outputs": [
    {
     "name": "stdout",
     "output_type": "stream",
     "text": [
      "Indice of minimum element : [243]\n"
     ]
    }
   ],
   "source": [
    "matrix_np=matrix_norm.copy().to_numpy()\n",
    "\n",
    "# Results are inverted, because the algorithm uses a cost. So a high skill stat corresponds to a small cost.\n",
    "def ConvertToCost(np_matrix):\n",
    "    for i in range(len(np_matrix[:,0])): # rows\n",
    "        for j in range(len(np_matrix[0,:])): # Columns\n",
    "            value=np_matrix[i,j]\n",
    "            np_matrix[i,j]=1.0/value\n",
    "    return np_matrix\n",
    "\n",
    "matrix_np2=ConvertToCost(matrix_np)\n",
    "\n",
    "# Sanity check - index 243 has the highest value of 1\n",
    "result = np.where(matrix_np2[:,0] == np.amin(matrix_np2))\n",
    "print('Indice of minimum element :', result[0])"
   ]
  },
  {
   "cell_type": "markdown",
   "id": "66437cbb-2f14-453d-b90b-67dcc19c6b8e",
   "metadata": {},
   "source": [
    "### Assignment problem"
   ]
  },
  {
   "cell_type": "code",
   "execution_count": 5,
   "id": "ac801a72-dbed-4a58-878b-ce68e5da6f0a",
   "metadata": {},
   "outputs": [
    {
     "name": "stdout",
     "output_type": "stream",
     "text": [
      "Lv50 Atk: Chaosmon\n",
      "Lv50 Int: Barbamon\n",
      "Lv50 Def: GroundLocomon\n"
     ]
    }
   ],
   "source": [
    "from scipy.optimize import linear_sum_assignment\n",
    "\n",
    "cost=matrix_np2.transpose()\n",
    "row_ind, col_ind = linear_sum_assignment(cost)\n",
    "\n",
    "composants=['Lv50 Atk','Lv50 Int','Lv50 Def']\n",
    "for i in range(len(col_ind)):\n",
    "    print(composants[i] + ': '  +  digimonList['Digimon'][col_ind[i]])"
   ]
  },
  {
   "cell_type": "markdown",
   "id": "e1794567-0679-4c94-ac52-b63c1f95427d",
   "metadata": {},
   "source": [
    "The best team is composed of the expected champions. The result is obvious because of the high number of digimons with different statistics for three roles and the simple metric. \n",
    "\n",
    "A deeper analysis can be performed by doing some"
   ]
  },
  {
   "cell_type": "markdown",
   "id": "4c26a5c9-c99f-4e8d-b8dd-ec851f211f2c",
   "metadata": {},
   "source": [
    "## Digging deeper\n",
    "\n",
    "- Filtering of the champions"
   ]
  },
  {
   "cell_type": "markdown",
   "id": "c4f2d6bc-471d-4b41-b4c8-b533f68089b4",
   "metadata": {},
   "source": [
    "### Data pre-processing"
   ]
  },
  {
   "cell_type": "code",
   "execution_count": 6,
   "id": "f1c9baa1-3ac5-4274-b9f2-ea2ca4c8a7a4",
   "metadata": {},
   "outputs": [
    {
     "name": "stdout",
     "output_type": "stream",
     "text": [
      "(249, 13)\n",
      "(19, 13)\n"
     ]
    },
    {
     "data": {
      "text/html": [
       "<div>\n",
       "<style scoped>\n",
       "    .dataframe tbody tr th:only-of-type {\n",
       "        vertical-align: middle;\n",
       "    }\n",
       "\n",
       "    .dataframe tbody tr th {\n",
       "        vertical-align: top;\n",
       "    }\n",
       "\n",
       "    .dataframe thead th {\n",
       "        text-align: right;\n",
       "    }\n",
       "</style>\n",
       "<table border=\"1\" class=\"dataframe\">\n",
       "  <thead>\n",
       "    <tr style=\"text-align: right;\">\n",
       "      <th></th>\n",
       "      <th>index</th>\n",
       "      <th>Number</th>\n",
       "      <th>Digimon</th>\n",
       "      <th>Stage</th>\n",
       "      <th>Type</th>\n",
       "      <th>Attribute</th>\n",
       "      <th>Memory</th>\n",
       "      <th>Equip Slots</th>\n",
       "      <th>Lv 50 HP</th>\n",
       "      <th>Lv50 SP</th>\n",
       "      <th>Lv50 Atk</th>\n",
       "      <th>Lv50 Def</th>\n",
       "      <th>Lv50 Int</th>\n",
       "      <th>Lv50 Spd</th>\n",
       "    </tr>\n",
       "  </thead>\n",
       "  <tbody>\n",
       "    <tr>\n",
       "      <th>0</th>\n",
       "      <td>166</td>\n",
       "      <td>167</td>\n",
       "      <td>Alphamon</td>\n",
       "      <td>Mega</td>\n",
       "      <td>Vaccine</td>\n",
       "      <td>Neutral</td>\n",
       "      <td>22</td>\n",
       "      <td>1</td>\n",
       "      <td>1390</td>\n",
       "      <td>128</td>\n",
       "      <td>158</td>\n",
       "      <td>183</td>\n",
       "      <td>158</td>\n",
       "      <td>130</td>\n",
       "    </tr>\n",
       "    <tr>\n",
       "      <th>1</th>\n",
       "      <td>169</td>\n",
       "      <td>170</td>\n",
       "      <td>Imperialdramon DM</td>\n",
       "      <td>Mega</td>\n",
       "      <td>Free</td>\n",
       "      <td>Fire</td>\n",
       "      <td>20</td>\n",
       "      <td>2</td>\n",
       "      <td>1730</td>\n",
       "      <td>143</td>\n",
       "      <td>139</td>\n",
       "      <td>139</td>\n",
       "      <td>139</td>\n",
       "      <td>148</td>\n",
       "    </tr>\n",
       "    <tr>\n",
       "      <th>2</th>\n",
       "      <td>170</td>\n",
       "      <td>171</td>\n",
       "      <td>Imperialdramon FM</td>\n",
       "      <td>Mega</td>\n",
       "      <td>Free</td>\n",
       "      <td>Neutral</td>\n",
       "      <td>20</td>\n",
       "      <td>2</td>\n",
       "      <td>1780</td>\n",
       "      <td>114</td>\n",
       "      <td>198</td>\n",
       "      <td>124</td>\n",
       "      <td>114</td>\n",
       "      <td>153</td>\n",
       "    </tr>\n",
       "    <tr>\n",
       "      <th>3</th>\n",
       "      <td>174</td>\n",
       "      <td>175</td>\n",
       "      <td>Examon</td>\n",
       "      <td>Mega</td>\n",
       "      <td>Data</td>\n",
       "      <td>Wind</td>\n",
       "      <td>22</td>\n",
       "      <td>1</td>\n",
       "      <td>1630</td>\n",
       "      <td>148</td>\n",
       "      <td>174</td>\n",
       "      <td>129</td>\n",
       "      <td>129</td>\n",
       "      <td>153</td>\n",
       "    </tr>\n",
       "    <tr>\n",
       "      <th>4</th>\n",
       "      <td>177</td>\n",
       "      <td>178</td>\n",
       "      <td>ChaosGallantmon</td>\n",
       "      <td>Mega</td>\n",
       "      <td>Virus</td>\n",
       "      <td>Dark</td>\n",
       "      <td>22</td>\n",
       "      <td>1</td>\n",
       "      <td>1340</td>\n",
       "      <td>139</td>\n",
       "      <td>178</td>\n",
       "      <td>139</td>\n",
       "      <td>163</td>\n",
       "      <td>144</td>\n",
       "    </tr>\n",
       "  </tbody>\n",
       "</table>\n",
       "</div>"
      ],
      "text/plain": [
       "   index  Number            Digimon Stage     Type Attribute  Memory  \\\n",
       "0    166     167           Alphamon  Mega  Vaccine   Neutral      22   \n",
       "1    169     170  Imperialdramon DM  Mega     Free      Fire      20   \n",
       "2    170     171  Imperialdramon FM  Mega     Free   Neutral      20   \n",
       "3    174     175             Examon  Mega     Data      Wind      22   \n",
       "4    177     178    ChaosGallantmon  Mega    Virus      Dark      22   \n",
       "\n",
       "   Equip Slots  Lv 50 HP  Lv50 SP  Lv50 Atk  Lv50 Def  Lv50 Int  Lv50 Spd  \n",
       "0            1      1390      128       158       183       158       130  \n",
       "1            2      1730      143       139       139       139       148  \n",
       "2            2      1780      114       198       124       114       153  \n",
       "3            1      1630      148       174       129       129       153  \n",
       "4            1      1340      139       178       139       163       144  "
      ]
     },
     "execution_count": 6,
     "metadata": {},
     "output_type": "execute_result"
    }
   ],
   "source": [
    "# Filtering\n",
    "digimonList2 = digimonList.copy()\n",
    "print(digimonList2.shape)\n",
    "carac=['Lv 50 HP','Lv50 SP','Lv50 Atk','Lv50 Def','Lv50 Int','Lv50 Spd']\n",
    "for item in carac:\n",
    "    index_names = digimonList2[(digimonList2[item] <= digimonList[item].mean()) ].index #Warning, mean of the unfiltered list\n",
    "    digimonList2.drop(index_names, inplace = True)\n",
    "\n",
    "print(digimonList2.shape)\n",
    "digimonList2.reset_index(inplace=True) # Reassign index\n",
    "\n",
    "digimonList2.head()"
   ]
  },
  {
   "cell_type": "markdown",
   "id": "4dc207a3-f8b7-4728-b479-640dc2bf84f0",
   "metadata": {},
   "source": [
    "The filtering permits us to have a pool of 19 champîons. New, we select the appropriate features. \n"
   ]
  },
  {
   "cell_type": "code",
   "execution_count": 123,
   "id": "6ad28006-0f71-4f30-a6a7-4cd88976a8b0",
   "metadata": {},
   "outputs": [
    {
     "data": {
      "text/html": [
       "<div>\n",
       "<style scoped>\n",
       "    .dataframe tbody tr th:only-of-type {\n",
       "        vertical-align: middle;\n",
       "    }\n",
       "\n",
       "    .dataframe tbody tr th {\n",
       "        vertical-align: top;\n",
       "    }\n",
       "\n",
       "    .dataframe thead th {\n",
       "        text-align: right;\n",
       "    }\n",
       "</style>\n",
       "<table border=\"1\" class=\"dataframe\">\n",
       "  <thead>\n",
       "    <tr style=\"text-align: right;\">\n",
       "      <th></th>\n",
       "      <th>TotDam</th>\n",
       "      <th>MtoSP</th>\n",
       "      <th>Tank</th>\n",
       "    </tr>\n",
       "  </thead>\n",
       "  <tbody>\n",
       "    <tr>\n",
       "      <th>0</th>\n",
       "      <td>20540</td>\n",
       "      <td>1.23</td>\n",
       "      <td>1573</td>\n",
       "    </tr>\n",
       "    <tr>\n",
       "      <th>1</th>\n",
       "      <td>20572</td>\n",
       "      <td>0.97</td>\n",
       "      <td>1869</td>\n",
       "    </tr>\n",
       "    <tr>\n",
       "      <th>2</th>\n",
       "      <td>30294</td>\n",
       "      <td>1.00</td>\n",
       "      <td>1904</td>\n",
       "    </tr>\n",
       "    <tr>\n",
       "      <th>3</th>\n",
       "      <td>26622</td>\n",
       "      <td>0.87</td>\n",
       "      <td>1759</td>\n",
       "    </tr>\n",
       "    <tr>\n",
       "      <th>4</th>\n",
       "      <td>25632</td>\n",
       "      <td>1.17</td>\n",
       "      <td>1479</td>\n",
       "    </tr>\n",
       "  </tbody>\n",
       "</table>\n",
       "</div>"
      ],
      "text/plain": [
       "   TotDam  MtoSP  Tank\n",
       "0   20540   1.23  1573\n",
       "1   20572   0.97  1869\n",
       "2   30294   1.00  1904\n",
       "3   26622   0.87  1759\n",
       "4   25632   1.17  1479"
      ]
     },
     "execution_count": 123,
     "metadata": {},
     "output_type": "execute_result"
    }
   ],
   "source": [
    "# Select the appropriate features\n",
    "temp=digimonList2[['Lv 50 HP','Lv50 Atk','Lv50 Int','Lv50 Def','Lv50 SP','Lv50 Spd']].copy()\n",
    "temp['TotDam'] = (temp['Lv50 Atk'] * temp['Lv50 Spd'])\n",
    "temp['MtoSP'] = round((temp['Lv50 Int'] / temp['Lv50 SP']),2)\n",
    "temp['Tank'] = (temp['Lv50 Def'] + temp['Lv 50 HP'])\n",
    "\n",
    "matrix2_filtered=temp[['TotDam','MtoSP','Tank']].copy()\n",
    "matrix2_filtered.head()"
   ]
  },
  {
   "cell_type": "code",
   "execution_count": 102,
   "id": "b9123d09-2284-4bf1-9637-b1bb3b696123",
   "metadata": {},
   "outputs": [],
   "source": [
    "# Pre-process the datas\n",
    "matrix2_norm=normalize(matrix2_filtered) # Normalization\n",
    "matrix2_np=matrix2_norm.copy().to_numpy()# Convert to numnpy\n",
    "matrix2_np2=ConvertToCost(matrix2_np)# Convert to cost\n"
   ]
  },
  {
   "cell_type": "markdown",
   "id": "00ec9436-6e8f-4598-89af-586a3c228e24",
   "metadata": {},
   "source": [
    "Optimization"
   ]
  },
  {
   "cell_type": "code",
   "execution_count": 117,
   "id": "a26700fe-91bc-43e7-a754-43840246a52b",
   "metadata": {},
   "outputs": [],
   "source": [
    "cost2=matrix2_np2.transpose()\n",
    "row_ind, c_i = linear_sum_assignment(cost2)\n",
    "#print(c_i)\n",
    "#print(cost[row_ind, col_ind].sum())"
   ]
  },
  {
   "cell_type": "markdown",
   "id": "d2266700-602f-4b30-8793-05da3c248ca8",
   "metadata": {},
   "source": [
    "\n",
    "With those hypothesis, the best team is :\n"
   ]
  },
  {
   "cell_type": "code",
   "execution_count": 116,
   "id": "8b5b174e-84a4-4683-9c3a-270f12228179",
   "metadata": {},
   "outputs": [
    {
     "name": "stdout",
     "output_type": "stream",
     "text": [
      "TotDam: Leopardmon LM\n",
      "MtoSP: Alphamon\n",
      "Tank: Imperialdramon FM\n"
     ]
    }
   ],
   "source": [
    "composants=['TotDam','MtoSP','Tank']\n",
    "for i in range(len(c_i)):\n",
    "    print(composants[i] + ': '  +  digimonList2['Digimon'][c_i[i]])"
   ]
  },
  {
   "cell_type": "code",
   "execution_count": 114,
   "id": "2db3e11b-67f4-4e2c-8ed8-7054cea8fc95",
   "metadata": {},
   "outputs": [
    {
     "data": {
      "text/html": [
       "<div>\n",
       "<style scoped>\n",
       "    .dataframe tbody tr th:only-of-type {\n",
       "        vertical-align: middle;\n",
       "    }\n",
       "\n",
       "    .dataframe tbody tr th {\n",
       "        vertical-align: top;\n",
       "    }\n",
       "\n",
       "    .dataframe thead th {\n",
       "        text-align: right;\n",
       "    }\n",
       "</style>\n",
       "<table border=\"1\" class=\"dataframe\">\n",
       "  <thead>\n",
       "    <tr style=\"text-align: right;\">\n",
       "      <th></th>\n",
       "      <th>index</th>\n",
       "      <th>Number</th>\n",
       "      <th>Digimon</th>\n",
       "      <th>Stage</th>\n",
       "      <th>Type</th>\n",
       "      <th>Attribute</th>\n",
       "      <th>Memory</th>\n",
       "      <th>Equip Slots</th>\n",
       "      <th>Lv 50 HP</th>\n",
       "      <th>Lv50 SP</th>\n",
       "      <th>Lv50 Atk</th>\n",
       "      <th>Lv50 Def</th>\n",
       "      <th>Lv50 Int</th>\n",
       "      <th>Lv50 Spd</th>\n",
       "    </tr>\n",
       "  </thead>\n",
       "  <tbody>\n",
       "    <tr>\n",
       "      <th>8</th>\n",
       "      <td>200</td>\n",
       "      <td>201</td>\n",
       "      <td>Leopardmon LM</td>\n",
       "      <td>Mega</td>\n",
       "      <td>Data</td>\n",
       "      <td>Earth</td>\n",
       "      <td>25</td>\n",
       "      <td>1</td>\n",
       "      <td>1290</td>\n",
       "      <td>153</td>\n",
       "      <td>159</td>\n",
       "      <td>129</td>\n",
       "      <td>139</td>\n",
       "      <td>218</td>\n",
       "    </tr>\n",
       "    <tr>\n",
       "      <th>0</th>\n",
       "      <td>166</td>\n",
       "      <td>167</td>\n",
       "      <td>Alphamon</td>\n",
       "      <td>Mega</td>\n",
       "      <td>Vaccine</td>\n",
       "      <td>Neutral</td>\n",
       "      <td>22</td>\n",
       "      <td>1</td>\n",
       "      <td>1390</td>\n",
       "      <td>128</td>\n",
       "      <td>158</td>\n",
       "      <td>183</td>\n",
       "      <td>158</td>\n",
       "      <td>130</td>\n",
       "    </tr>\n",
       "    <tr>\n",
       "      <th>2</th>\n",
       "      <td>170</td>\n",
       "      <td>171</td>\n",
       "      <td>Imperialdramon FM</td>\n",
       "      <td>Mega</td>\n",
       "      <td>Free</td>\n",
       "      <td>Neutral</td>\n",
       "      <td>20</td>\n",
       "      <td>2</td>\n",
       "      <td>1780</td>\n",
       "      <td>114</td>\n",
       "      <td>198</td>\n",
       "      <td>124</td>\n",
       "      <td>114</td>\n",
       "      <td>153</td>\n",
       "    </tr>\n",
       "  </tbody>\n",
       "</table>\n",
       "</div>"
      ],
      "text/plain": [
       "   index  Number            Digimon Stage     Type Attribute  Memory  \\\n",
       "8    200     201      Leopardmon LM  Mega     Data     Earth      25   \n",
       "0    166     167           Alphamon  Mega  Vaccine   Neutral      22   \n",
       "2    170     171  Imperialdramon FM  Mega     Free   Neutral      20   \n",
       "\n",
       "   Equip Slots  Lv 50 HP  Lv50 SP  Lv50 Atk  Lv50 Def  Lv50 Int  Lv50 Spd  \n",
       "8            1      1290      153       159       129       139       218  \n",
       "0            1      1390      128       158       183       158       130  \n",
       "2            2      1780      114       198       124       114       153  "
      ]
     },
     "execution_count": 114,
     "metadata": {},
     "output_type": "execute_result"
    }
   ],
   "source": [
    "digimonList2.iloc[c_i]"
   ]
  },
  {
   "cell_type": "code",
   "execution_count": null,
   "id": "b1f3d688-c95b-4836-b569-380df650ffda",
   "metadata": {},
   "outputs": [],
   "source": []
  },
  {
   "cell_type": "code",
   "execution_count": null,
   "id": "43e84009-db01-4e13-b171-b7f9d0c77db5",
   "metadata": {},
   "outputs": [],
   "source": []
  },
  {
   "cell_type": "code",
   "execution_count": null,
   "id": "8841eef9-8a58-4547-baf9-c9da151c363c",
   "metadata": {},
   "outputs": [],
   "source": []
  }
 ],
 "metadata": {
  "kernelspec": {
   "display_name": "Python 3 (ipykernel)",
   "language": "python",
   "name": "python3"
  },
  "language_info": {
   "codemirror_mode": {
    "name": "ipython",
    "version": 3
   },
   "file_extension": ".py",
   "mimetype": "text/x-python",
   "name": "python",
   "nbconvert_exporter": "python",
   "pygments_lexer": "ipython3",
   "version": "3.9.7"
  }
 },
 "nbformat": 4,
 "nbformat_minor": 5
}
